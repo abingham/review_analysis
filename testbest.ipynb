{
 "metadata": {
  "name": "",
  "signature": "sha256:34cd260a4ca79e87d999b6a39a6a160ada0851f1d883d064ae96e921d44eb29a"
 },
 "nbformat": 3,
 "nbformat_minor": 0,
 "worksheets": [
  {
   "cells": [
    {
     "cell_type": "code",
     "collapsed": false,
     "input": [
      "%pylab inline\n",
      "\n",
      "import pandas as pd\n",
      "\n",
      "pylab.rcParams['figure.figsize'] = 20, 5\n",
      "pd.set_option('display.max_columns', 40)\n",
      "pd.set_option('display.max_rows', 200)\n",
      "\n",
      "from osstat.sources.gerrit import Gerrit\n",
      "from osstat.reports import *"
     ],
     "language": "python",
     "metadata": {},
     "outputs": [
      {
       "output_type": "stream",
       "stream": "stdout",
       "text": [
        "Populating the interactive namespace from numpy and matplotlib\n"
       ]
      }
     ],
     "prompt_number": 1
    }
   ],
   "metadata": {}
  }
 ]
}